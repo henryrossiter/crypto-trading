{
 "cells": [
  {
   "cell_type": "code",
   "execution_count": null,
   "metadata": {},
   "outputs": [],
   "source": [
    "import robin_stocks as r\n",
    "\n",
    "username = ''\n",
    "password = ''\n",
    "r.login(username,password)"
   ]
  },
  {
   "cell_type": "code",
   "execution_count": null,
   "metadata": {},
   "outputs": [],
   "source": [
    "def getYearHistoricals(symbol):\n",
    "  symbol_dict = {\n",
    "    'BTC': '3d961844-d360-45fc-989b-f6fca761d511',\n",
    "    'ETH': '76637d50-c702-4ed1-bcb5-5b0732a81f48',\n",
    "    'LTC': '383280b1-ff53-43fc-9c84-f01afd0989cd',\n",
    "    'BCH': '2f2b77c4-e426-4271-ae49-18d5cb296d3a',\n",
    "    'DOGE': '1ef78e1b-049b-4f12-90e5-555dcf2fe204',\n",
    "    'ETC': '7b577ce3-489d-4269-9408-796a0d1abb3a',\n",
    "    'BSV': '086a8f9f-6c39-43fa-ac9f-57952f4a1ba6'\n",
    "  }\n",
    "  formatted_url = 'https://api.robinhood.com/marketdata/forex/historicals/{}/?bounds=24_7&interval=day&span=year'.format(symbol_dict[symbol])\n",
    "  return r.helper.request_get(formatted_url)"
   ]
  },
  {
   "cell_type": "code",
   "execution_count": null,
   "metadata": {},
   "outputs": [],
   "source": [
    "# Fetch a dict of a year of BTC prices\n",
    "btc_data = getYearHistoricals('BTC')['data_points']\n",
    "\n",
    "# Tranform price dict to list of low prices\n",
    "btc_data = [float(point['low_price']) for point in btc_data]"
   ]
  },
  {
   "cell_type": "code",
   "execution_count": null,
   "metadata": {},
   "outputs": [],
   "source": [
    "import matplotlib.pyplot as plt"
   ]
  },
  {
   "cell_type": "code",
   "execution_count": null,
   "metadata": {},
   "outputs": [],
   "source": [
    "plt.plot(btc_data)\n",
    "plt.title('Daily Low Bitcoin Prices - 1 Year')\n",
    "plt.ylabel('Daily Low - USD')\n",
    "plt.show()"
   ]
  },
  {
   "cell_type": "code",
   "execution_count": null,
   "metadata": {},
   "outputs": [],
   "source": [
    "import numpy as np\n",
    "def moving_average(a, n=3) :\n",
    "    ret = np.cumsum(a, dtype=float)\n",
    "    ret[n:] = ret[n:] - ret[:-n]\n",
    "    return ret[n - 1:] / n\n",
    "\n",
    "n = 12\n",
    "plt.plot(moving_average(btc_data, n=n))\n",
    "plt.plot(btc_data[n - 1:])\n",
    "plt.title('Daily Low Bitcoin Prices - 1 Year')\n",
    "plt.legend(['{} day moving average of low prices'.format(n), 'daily low price'])\n",
    "plt.show()"
   ]
  }
 ],
 "metadata": {
  "kernelspec": {
   "display_name": "Python 3",
   "language": "python",
   "name": "python3"
  },
  "language_info": {
   "codemirror_mode": {
    "name": "ipython",
    "version": 3
   },
   "file_extension": ".py",
   "mimetype": "text/x-python",
   "name": "python",
   "nbconvert_exporter": "python",
   "pygments_lexer": "ipython3",
   "version": "3.6.5"
  }
 },
 "nbformat": 4,
 "nbformat_minor": 2
}
